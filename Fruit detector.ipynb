{
 "cells": [
  {
   "cell_type": "code",
   "execution_count": 3,
   "metadata": {},
   "outputs": [],
   "source": [
    "import tensorflow.compat.v1 as tf"
   ]
  },
  {
   "cell_type": "code",
   "execution_count": 4,
   "metadata": {},
   "outputs": [],
   "source": [
    "model = tf.keras.models.Sequential([tf.keras.layers.Conv2D(16,(3,3),activation ='relu',input_shape = (100,100,3)),\n",
    "                                   tf.keras.layers.MaxPool2D(2,2),\n",
    "                                   tf.keras.layers.Conv2D(32,(3,3),activation ='relu'),\n",
    "                                   tf.keras.layers.MaxPool2D(2,2),\n",
    "                                   tf.keras.layers.Flatten(),\n",
    "                                   tf.keras.layers.Dense(512,activation ='relu'),\n",
    "                                   tf.keras.layers.Dense(1,activation ='sigmoid')])"
   ]
  },
  {
   "cell_type": "code",
   "execution_count": 5,
   "metadata": {},
   "outputs": [],
   "source": [
    "from tensorflow.keras.optimizers import RMSprop\n",
    "\n",
    "model.compile(loss='binary_crossentropy',\n",
    "              optimizer=RMSprop(lr=0.001),\n",
    "              metrics=['accuracy'])"
   ]
  },
  {
   "cell_type": "code",
   "execution_count": 6,
   "metadata": {},
   "outputs": [
    {
     "name": "stdout",
     "output_type": "stream",
     "text": [
      "Found 1308 images belonging to 2 classes.\n",
      "Found 553 images belonging to 2 classes.\n"
     ]
    }
   ],
   "source": [
    "from tensorflow.keras.preprocessing.image import ImageDataGenerator\n",
    "\n",
    "train_datagen = ImageDataGenerator(rescale=1/255)\n",
    "validation_datagen = ImageDataGenerator(rescale=1/255)\n",
    "\n",
    "train_generator = train_datagen.flow_from_directory(\n",
    "        directory = r\"./fruit_data/Train/\",\n",
    "        target_size=(100, 100),\n",
    "        batch_size=20,\n",
    "        class_mode='binary')\n",
    "validation_generator = validation_datagen.flow_from_directory(\n",
    "        directory = r\"./fruit_data/Validation/\",  # This is the source directory for training images\n",
    "        target_size=(100, 100),  # All images will be resized to 150x150\n",
    "        batch_size=5,\n",
    "        # Since we use binary_crossentropy loss, we need binary labels\n",
    "        class_mode='binary')"
   ]
  },
  {
   "cell_type": "code",
   "execution_count": 7,
   "metadata": {
    "scrolled": true
   },
   "outputs": [
    {
     "name": "stdout",
     "output_type": "stream",
     "text": [
      "Train for 8 steps, validate for 8 steps\n",
      "Epoch 1/15\n",
      "8/8 [==============================] - 5s 680ms/step - loss: 2.3051 - accuracy: 0.8438 - val_loss: 0.0028 - val_accuracy: 1.0000\n",
      "Epoch 2/15\n",
      "8/8 [==============================] - 4s 458ms/step - loss: 0.0012 - accuracy: 1.0000 - val_loss: 0.0023 - val_accuracy: 1.0000\n",
      "Epoch 3/15\n",
      "8/8 [==============================] - 4s 468ms/step - loss: 2.9143e-04 - accuracy: 1.0000 - val_loss: 9.4492e-04 - val_accuracy: 1.0000\n",
      "Epoch 4/15\n",
      "8/8 [==============================] - 4s 477ms/step - loss: 1.3919e-04 - accuracy: 1.0000 - val_loss: 8.9490e-04 - val_accuracy: 1.0000\n",
      "Epoch 5/15\n",
      "8/8 [==============================] - 4s 488ms/step - loss: 6.0461e-05 - accuracy: 1.0000 - val_loss: 0.0012 - val_accuracy: 1.0000\n",
      "Epoch 6/15\n",
      "8/8 [==============================] - 4s 468ms/step - loss: 2.7831e-05 - accuracy: 1.0000 - val_loss: 6.0059e-04 - val_accuracy: 1.0000\n",
      "Epoch 7/15\n",
      "8/8 [==============================] - 4s 474ms/step - loss: 1.5642e-05 - accuracy: 1.0000 - val_loss: 4.1005e-04 - val_accuracy: 1.0000\n",
      "Epoch 8/15\n",
      "8/8 [==============================] - 4s 461ms/step - loss: 1.9163e-05 - accuracy: 1.0000 - val_loss: 2.2019e-04 - val_accuracy: 1.0000\n",
      "Epoch 9/15\n",
      "8/8 [==============================] - 4s 490ms/step - loss: 7.0663e-06 - accuracy: 1.0000 - val_loss: 3.0461e-04 - val_accuracy: 1.0000\n",
      "Epoch 10/15\n",
      "8/8 [==============================] - 4s 484ms/step - loss: 4.0717e-06 - accuracy: 1.0000 - val_loss: 2.2321e-04 - val_accuracy: 1.0000\n",
      "Epoch 11/15\n",
      "8/8 [==============================] - 4s 463ms/step - loss: 3.4704e-06 - accuracy: 1.0000 - val_loss: 1.4411e-04 - val_accuracy: 1.0000\n",
      "Epoch 12/15\n",
      "8/8 [==============================] - 4s 466ms/step - loss: 2.6784e-06 - accuracy: 1.0000 - val_loss: 5.2700e-05 - val_accuracy: 1.0000\n",
      "Epoch 13/15\n",
      "8/8 [==============================] - 4s 463ms/step - loss: 1.3156e-06 - accuracy: 1.0000 - val_loss: 6.1458e-05 - val_accuracy: 1.0000\n",
      "Epoch 14/15\n",
      "8/8 [==============================] - 4s 467ms/step - loss: 1.3713e-06 - accuracy: 1.0000 - val_loss: 1.4608e-04 - val_accuracy: 1.0000\n",
      "Epoch 15/15\n",
      "8/8 [==============================] - 4s 467ms/step - loss: 5.5499e-07 - accuracy: 1.0000 - val_loss: 5.4527e-05 - val_accuracy: 1.0000\n"
     ]
    },
    {
     "data": {
      "text/plain": [
       "<tensorflow.python.keras.callbacks.History at 0x1aa0f9949c8>"
      ]
     },
     "execution_count": 7,
     "metadata": {},
     "output_type": "execute_result"
    }
   ],
   "source": [
    "model.fit(\n",
    "      train_generator,\n",
    "      steps_per_epoch=8,  \n",
    "      epochs=15,\n",
    "      verbose=1,\n",
    "      validation_data = validation_generator,\n",
    "      validation_steps=8)"
   ]
  },
  {
   "cell_type": "code",
   "execution_count": 16,
   "metadata": {},
   "outputs": [
    {
     "name": "stdout",
     "output_type": "stream",
     "text": [
      "Enter File name: 1-prehistoricp.jpg\n",
      "[1.]\n",
      "1-prehistoricp.jpg is a banana\n"
     ]
    }
   ],
   "source": [
    "import numpy as np\n",
    "from tensorflow.keras.preprocessing import image\n",
    "\n",
    "fn = input('Enter File name: ')\n",
    "path = r'./images/' + fn\n",
    "img = image.load_img(path, target_size=(100, 100))\n",
    "x = image.img_to_array(img)\n",
    "x = np.expand_dims(x, axis=0)\n",
    "\n",
    "images = np.vstack([x])\n",
    "classes = model.predict(images, batch_size=10)\n",
    "print(classes[0])\n",
    "if classes[0]>0.5:\n",
    "    print(fn + \" is a banana\")\n",
    "else:\n",
    "    print(fn + \" is a apple\")"
   ]
  },
  {
   "cell_type": "code",
   "execution_count": null,
   "metadata": {},
   "outputs": [],
   "source": []
  }
 ],
 "metadata": {
  "kernelspec": {
   "display_name": "Python 3",
   "language": "python",
   "name": "python3"
  },
  "language_info": {
   "codemirror_mode": {
    "name": "ipython",
    "version": 3
   },
   "file_extension": ".py",
   "mimetype": "text/x-python",
   "name": "python",
   "nbconvert_exporter": "python",
   "pygments_lexer": "ipython3",
   "version": "3.7.4"
  }
 },
 "nbformat": 4,
 "nbformat_minor": 2
}
